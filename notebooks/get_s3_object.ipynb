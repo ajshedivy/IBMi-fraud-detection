{
 "cells": [
  {
   "cell_type": "code",
   "execution_count": 8,
   "id": "e2896ca7-caf5-4e1f-849a-a8cca9e0d2e3",
   "metadata": {},
   "outputs": [
    {
     "name": "stdout",
     "output_type": "stream",
     "text": [
      "The lab_black extension is already loaded. To reload it, use:\n",
      "  %reload_ext lab_black\n"
     ]
    }
   ],
   "source": [
    "import pickle\n",
    "import os\n",
    "from minio import Minio\n",
    "from minio.error import S3Error\n",
    "\n",
    "import requests\n",
    "from requests.auth import HTTPBasicAuth\n",
    "import urllib3\n",
    "\n",
    "from typing import Dict, Any, Optional\n",
    "\n",
    "%load_ext lab_black\n",
    "\n",
    "# dataset_encoder_dir path is generated in Pipeline and can be found in the Input/Ouput section of 'Preprocess Dataset'\n",
    "dataset_encoder_dir = \"artifacts/fraud-detection-bwtnn/2024/04/23/fraud-detection-bwtnn-536829612/preprocess-dataset-dataset_encoder_dir.tgz\"\n",
    "\n",
    "encoder_artifact = {\n",
    "    \"name\": \"preprocess-dataset-dataset_encoder_dir\",\n",
    "    \"path\": \"/tmp/outputs/dataset_encoder_dir/data\",\n",
    "    \"s3\": {\"key\": dataset_encoder_dir},\n",
    "}\n",
    "\n",
    "# MinIO configuration\n",
    "minio_endpoint = \"172.30.131.125:9000\"  # e.g., 'localhost:9000'\n",
    "minio_access_key = \"minio\"\n",
    "minio_secret_key = \"minio123\"\n",
    "\n",
    "# File details\n",
    "bucket_name = \"mlpipeline\"\n",
    "local_file_path = os.path.abspath(\"preprocess-dataset-dataset_encoder_dir.tgz\")\n",
    "\n",
    "# Create a MinIO client with the endpoint and access keys\n",
    "minio_client = Minio(\n",
    "    minio_endpoint,\n",
    "    access_key=minio_access_key,\n",
    "    secret_key=minio_secret_key,\n",
    "    secure=False,  # Set to False if the MinIO server doesn't support HTTPS\n",
    ")\n",
    "\n",
    "try:\n",
    "    # Get the object and write it to the local file path\n",
    "    minio_client.fget_object(\n",
    "        bucket_name, encoder_artifact[\"s3\"][\"key\"], local_file_path\n",
    "    )\n",
    "    print(f\"File downloaded successfully to {local_file_path}\")\n",
    "except Exception as exc:\n",
    "    print(f\"An error occurred: {exc}\")"
   ]
  },
  {
   "cell_type": "code",
   "execution_count": 25,
   "id": "2e7d1ad5-f7bb-4bbd-bbb5-653d6ae8a78a",
   "metadata": {},
   "outputs": [],
   "source": [
    "def get_s3_object(\n",
    "    s3_artifact: Dict[str, str],\n",
    "    f_type: str = \"tgz\",\n",
    "    bucket_name: str = \"mlpipeline\",\n",
    "    minio_endpoint: str = \"172.30.131.125:9000\",\n",
    "    minio_access_key: str = \"minio\",\n",
    "    minio_secret_key: str = \"minio123\",\n",
    "):\n",
    "\n",
    "    local_file_path = os.path.abspath(f'{s3_artifact[\"name\"]}.{f_type}')\n",
    "    # Create a MinIO client with the endpoint and access keys\n",
    "    minio_client = Minio(\n",
    "        minio_endpoint,\n",
    "        access_key=minio_access_key,\n",
    "        secret_key=minio_secret_key,\n",
    "        secure=False,  # Set to False if the MinIO server doesn't support HTTPS\n",
    "    )\n",
    "\n",
    "    try:\n",
    "        # Get the object and write it to the local file path\n",
    "        minio_client.fget_object(bucket_name, s3_artifact[\"s3\"][\"key\"], local_file_path)\n",
    "        print(f\"File downloaded successfully to {local_file_path}\")\n",
    "    except Exception as exc:\n",
    "        print(f\"An error occurred: {exc}\")"
   ]
  },
  {
   "cell_type": "code",
   "execution_count": 27,
   "id": "6d497407-b53c-4817-8649-8c2403dd25f4",
   "metadata": {},
   "outputs": [
    {
     "name": "stdout",
     "output_type": "stream",
     "text": [
      "File downloaded successfully to /home/jovyan/IBMi-fraud-detection/notebooks/preprocess-dataset-dataset_encoder_dir.tgz\n"
     ]
    }
   ],
   "source": [
    "dataset_encoder_dir = \"artifacts/fraud-detection-bwtnn/2024/04/23/fraud-detection-bwtnn-536829612/preprocess-dataset-dataset_encoder_dir.tgz\"\n",
    "\n",
    "encoder_artifact = {\n",
    "    \"name\": \"preprocess-dataset-dataset_encoder_dir\",\n",
    "    \"path\": \"/tmp/outputs/dataset_encoder_dir/data\",\n",
    "    \"s3\": {\"key\": dataset_encoder_dir},\n",
    "}\n",
    "\n",
    "get_s3_object(encoder_artifact)"
   ]
  },
  {
   "cell_type": "code",
   "execution_count": 31,
   "id": "4f04727c-e6fe-4184-808c-3c3750b4464b",
   "metadata": {},
   "outputs": [
    {
     "name": "stdout",
     "output_type": "stream",
     "text": [
      "File downloaded successfully to /home/jovyan/IBMi-fraud-detection/notebooks/convert-model-to-onnx-onnx_model_dir.tgz\n"
     ]
    }
   ],
   "source": [
    "# download onnx model artifact\n",
    "\n",
    "onnx_s3_dir = \"artifacts/fraud-detection-bwtnn/2024/04/23/fraud-detection-bwtnn-3218414436/convert-model-to-onnx-onnx_model_dir.tgz\"\n",
    "\n",
    "onnx_artifact = {\n",
    "    \"name\": \"convert-model-to-onnx-onnx_model_dir\",\n",
    "    \"path\": \"tmp/\",\n",
    "    \"s3\": {\"key\": f\"{onnx_s3_dir}\"},\n",
    "}\n",
    "\n",
    "get_s3_object(onnx_artifact)"
   ]
  },
  {
   "cell_type": "code",
   "execution_count": 36,
   "id": "a5cefd0c-de40-40fa-8df6-afc5ea670acf",
   "metadata": {},
   "outputs": [],
   "source": [
    "import tarfile\n",
    "import dill\n",
    "import shutil\n",
    "\n",
    "with tarfile.open(f\"{onnx_artifact['name']}.tgz\", \"r:gz\") as tar:\n",
    "    tar.extractall(\"model\")"
   ]
  },
  {
   "cell_type": "code",
   "execution_count": 37,
   "id": "f37174ac-6e19-431b-b0e3-e9a46dfb3ba3",
   "metadata": {},
   "outputs": [],
   "source": [
    "import onnxruntime as ort"
   ]
  },
  {
   "cell_type": "code",
   "execution_count": 43,
   "id": "9deb8ade-7f82-424b-9fbf-a8bbd17f9e8f",
   "metadata": {},
   "outputs": [
    {
     "data": {
      "text/plain": [
       "<onnxruntime.capi.onnxruntime_pybind11_state.SessionOptions at 0x7fff787793b0>"
      ]
     },
     "execution_count": 43,
     "metadata": {},
     "output_type": "execute_result"
    }
   ],
   "source": [
    "session = ort.InferenceSession(\"model/model.onnx\", providers=[\"CPUExecutionProvider\"])\n",
    "session.get_session_options()"
   ]
  },
  {
   "cell_type": "code",
   "execution_count": 44,
   "id": "45f5f84d-524f-4e3c-80a5-410f55f8c8fc",
   "metadata": {},
   "outputs": [
    {
     "data": {
      "text/html": [
       "<style>#sk-container-id-1 {color: black;background-color: white;}#sk-container-id-1 pre{padding: 0;}#sk-container-id-1 div.sk-toggleable {background-color: white;}#sk-container-id-1 label.sk-toggleable__label {cursor: pointer;display: block;width: 100%;margin-bottom: 0;padding: 0.3em;box-sizing: border-box;text-align: center;}#sk-container-id-1 label.sk-toggleable__label-arrow:before {content: \"▸\";float: left;margin-right: 0.25em;color: #696969;}#sk-container-id-1 label.sk-toggleable__label-arrow:hover:before {color: black;}#sk-container-id-1 div.sk-estimator:hover label.sk-toggleable__label-arrow:before {color: black;}#sk-container-id-1 div.sk-toggleable__content {max-height: 0;max-width: 0;overflow: hidden;text-align: left;background-color: #f0f8ff;}#sk-container-id-1 div.sk-toggleable__content pre {margin: 0.2em;color: black;border-radius: 0.25em;background-color: #f0f8ff;}#sk-container-id-1 input.sk-toggleable__control:checked~div.sk-toggleable__content {max-height: 200px;max-width: 100%;overflow: auto;}#sk-container-id-1 input.sk-toggleable__control:checked~label.sk-toggleable__label-arrow:before {content: \"▾\";}#sk-container-id-1 div.sk-estimator input.sk-toggleable__control:checked~label.sk-toggleable__label {background-color: #d4ebff;}#sk-container-id-1 div.sk-label input.sk-toggleable__control:checked~label.sk-toggleable__label {background-color: #d4ebff;}#sk-container-id-1 input.sk-hidden--visually {border: 0;clip: rect(1px 1px 1px 1px);clip: rect(1px, 1px, 1px, 1px);height: 1px;margin: -1px;overflow: hidden;padding: 0;position: absolute;width: 1px;}#sk-container-id-1 div.sk-estimator {font-family: monospace;background-color: #f0f8ff;border: 1px dotted black;border-radius: 0.25em;box-sizing: border-box;margin-bottom: 0.5em;}#sk-container-id-1 div.sk-estimator:hover {background-color: #d4ebff;}#sk-container-id-1 div.sk-parallel-item::after {content: \"\";width: 100%;border-bottom: 1px solid gray;flex-grow: 1;}#sk-container-id-1 div.sk-label:hover label.sk-toggleable__label {background-color: #d4ebff;}#sk-container-id-1 div.sk-serial::before {content: \"\";position: absolute;border-left: 1px solid gray;box-sizing: border-box;top: 0;bottom: 0;left: 50%;z-index: 0;}#sk-container-id-1 div.sk-serial {display: flex;flex-direction: column;align-items: center;background-color: white;padding-right: 0.2em;padding-left: 0.2em;position: relative;}#sk-container-id-1 div.sk-item {position: relative;z-index: 1;}#sk-container-id-1 div.sk-parallel {display: flex;align-items: stretch;justify-content: center;background-color: white;position: relative;}#sk-container-id-1 div.sk-item::before, #sk-container-id-1 div.sk-parallel-item::before {content: \"\";position: absolute;border-left: 1px solid gray;box-sizing: border-box;top: 0;bottom: 0;left: 50%;z-index: -1;}#sk-container-id-1 div.sk-parallel-item {display: flex;flex-direction: column;z-index: 1;position: relative;background-color: white;}#sk-container-id-1 div.sk-parallel-item:first-child::after {align-self: flex-end;width: 50%;}#sk-container-id-1 div.sk-parallel-item:last-child::after {align-self: flex-start;width: 50%;}#sk-container-id-1 div.sk-parallel-item:only-child::after {width: 0;}#sk-container-id-1 div.sk-dashed-wrapped {border: 1px dashed gray;margin: 0 0.4em 0.5em 0.4em;box-sizing: border-box;padding-bottom: 0.4em;background-color: white;}#sk-container-id-1 div.sk-label label {font-family: monospace;font-weight: bold;display: inline-block;line-height: 1.2em;}#sk-container-id-1 div.sk-label-container {text-align: center;}#sk-container-id-1 div.sk-container {/* jupyter's `normalize.less` sets `[hidden] { display: none; }` but bootstrap.min.css set `[hidden] { display: none !important; }` so we also need the `!important` here to be able to override the default hidden behavior on the sphinx rendered scikit-learn.org. See: https://github.com/scikit-learn/scikit-learn/issues/21755 */display: inline-block !important;position: relative;}#sk-container-id-1 div.sk-text-repr-fallback {display: none;}</style><div id=\"sk-container-id-1\" class=\"sk-top-container\"><div class=\"sk-text-repr-fallback\"><pre>DataFrameMapper(df_out=True, drop_cols=[],\n",
       "                features=[(&#x27;is fraud?&#x27;,\n",
       "                           FunctionTransformer(func=&lt;function preprocess_dataset.&lt;locals&gt;.fraudEncoder at 0x7fff79118310&gt;),\n",
       "                           {}),\n",
       "                          (&#x27;merchant name&#x27;,\n",
       "                           TransformerPipeline(steps=[(&#x27;labelencoder&#x27;,\n",
       "                                                       LabelEncoder()),\n",
       "                                                      (&#x27;functiontransformer&#x27;,\n",
       "                                                       FunctionTransformer(func=&lt;function preprocess_dataset.&lt;locals&gt;.decimalEncoder at 0x7ff767f4b160...\n",
       "                           TransformerPipeline(steps=[(&#x27;functiontransformer&#x27;,\n",
       "                                                       FunctionTransformer(func=&lt;function preprocess_dataset.&lt;locals&gt;.timeEncoder at 0x7ff5c827d790&gt;)),\n",
       "                                                      (&#x27;minmaxscaler&#x27;,\n",
       "                                                       MinMaxScaler())]),\n",
       "                           {}),\n",
       "                          (&#x27;amount&#x27;,\n",
       "                           TransformerPipeline(steps=[(&#x27;functiontransformer&#x27;,\n",
       "                                                       FunctionTransformer(func=&lt;function preprocess_dataset.&lt;locals&gt;.amtEncoder at 0x7ff5c82803a0&gt;)),\n",
       "                                                      (&#x27;minmaxscaler&#x27;,\n",
       "                                                       MinMaxScaler())]),\n",
       "                           {})],\n",
       "                input_df=True)</pre><b>In a Jupyter environment, please rerun this cell to show the HTML representation or trust the notebook. <br />On GitHub, the HTML representation is unable to render, please try loading this page with nbviewer.org.</b></div><div class=\"sk-container\" hidden><div class=\"sk-item\"><div class=\"sk-estimator sk-toggleable\"><input class=\"sk-toggleable__control sk-hidden--visually\" id=\"sk-estimator-id-1\" type=\"checkbox\" checked><label for=\"sk-estimator-id-1\" class=\"sk-toggleable__label sk-toggleable__label-arrow\">DataFrameMapper</label><div class=\"sk-toggleable__content\"><pre>DataFrameMapper(df_out=True, drop_cols=[],\n",
       "                features=[(&#x27;is fraud?&#x27;,\n",
       "                           FunctionTransformer(func=&lt;function preprocess_dataset.&lt;locals&gt;.fraudEncoder at 0x7fff79118310&gt;),\n",
       "                           {}),\n",
       "                          (&#x27;merchant name&#x27;,\n",
       "                           TransformerPipeline(steps=[(&#x27;labelencoder&#x27;,\n",
       "                                                       LabelEncoder()),\n",
       "                                                      (&#x27;functiontransformer&#x27;,\n",
       "                                                       FunctionTransformer(func=&lt;function preprocess_dataset.&lt;locals&gt;.decimalEncoder at 0x7ff767f4b160...\n",
       "                           TransformerPipeline(steps=[(&#x27;functiontransformer&#x27;,\n",
       "                                                       FunctionTransformer(func=&lt;function preprocess_dataset.&lt;locals&gt;.timeEncoder at 0x7ff5c827d790&gt;)),\n",
       "                                                      (&#x27;minmaxscaler&#x27;,\n",
       "                                                       MinMaxScaler())]),\n",
       "                           {}),\n",
       "                          (&#x27;amount&#x27;,\n",
       "                           TransformerPipeline(steps=[(&#x27;functiontransformer&#x27;,\n",
       "                                                       FunctionTransformer(func=&lt;function preprocess_dataset.&lt;locals&gt;.amtEncoder at 0x7ff5c82803a0&gt;)),\n",
       "                                                      (&#x27;minmaxscaler&#x27;,\n",
       "                                                       MinMaxScaler())]),\n",
       "                           {})],\n",
       "                input_df=True)</pre></div></div></div></div></div>"
      ],
      "text/plain": [
       "DataFrameMapper(df_out=True, drop_cols=[],\n",
       "                features=[('is fraud?',\n",
       "                           FunctionTransformer(func=<function preprocess_dataset.<locals>.fraudEncoder at 0x7fff79118310>),\n",
       "                           {}),\n",
       "                          ('merchant name',\n",
       "                           TransformerPipeline(steps=[('labelencoder',\n",
       "                                                       LabelEncoder()),\n",
       "                                                      ('functiontransformer',\n",
       "                                                       FunctionTransformer(func=<function preprocess_dataset.<locals>.decimalEncoder at 0x7ff767f4b160...\n",
       "                           TransformerPipeline(steps=[('functiontransformer',\n",
       "                                                       FunctionTransformer(func=<function preprocess_dataset.<locals>.timeEncoder at 0x7ff5c827d790>)),\n",
       "                                                      ('minmaxscaler',\n",
       "                                                       MinMaxScaler())]),\n",
       "                           {}),\n",
       "                          ('amount',\n",
       "                           TransformerPipeline(steps=[('functiontransformer',\n",
       "                                                       FunctionTransformer(func=<function preprocess_dataset.<locals>.amtEncoder at 0x7ff5c82803a0>)),\n",
       "                                                      ('minmaxscaler',\n",
       "                                                       MinMaxScaler())]),\n",
       "                           {})],\n",
       "                input_df=True)"
      ]
     },
     "execution_count": 44,
     "metadata": {},
     "output_type": "execute_result"
    }
   ],
   "source": [
    "with open(os.path.join(\"encoders\", \"data\", \"mapper.pkl\"), \"rb\") as f:\n",
    "    t_mapper = dill.load(f)\n",
    "\n",
    "t_mapper"
   ]
  },
  {
   "cell_type": "code",
   "execution_count": 46,
   "id": "55e2b7f0-1374-40e6-937b-e5f6f94eaf86",
   "metadata": {},
   "outputs": [],
   "source": [
    "from sklearn.preprocessing import (\n",
    "    LabelEncoder,\n",
    "    OneHotEncoder,\n",
    "    FunctionTransformer,\n",
    "    MinMaxScaler,\n",
    "    LabelBinarizer,\n",
    ")\n",
    "from sklearn_pandas import DataFrameMapper\n",
    "import pandas as pd\n",
    "\n",
    "# from encoders import fraudEncoder, amtEncoder, decimalEncoder, timeEncoder\n",
    "\n",
    "\n",
    "class FraudDatasetTransformer:\n",
    "    def __init__(self):\n",
    "        ...\n",
    "\n",
    "    def transform(self, dataset: pd.DataFrame, mapper: DataFrameMapper):\n",
    "        tdf = dataset.copy()\n",
    "        tdf[\"merchant name\"] = tdf[\"merchant name\"].astype(str)\n",
    "        tdf.drop([\"mcc\", \"zip\", \"merchant state\"], axis=1, inplace=True)\n",
    "        tdf.sort_values(by=[\"user\", \"card\"], inplace=True)\n",
    "        tdf.reset_index(inplace=True, drop=True)\n",
    "\n",
    "        tdf = mapper.transform(tdf)\n",
    "        return tdf"
   ]
  },
  {
   "cell_type": "code",
   "execution_count": 47,
   "id": "80cd8461-2bb7-4da3-a603-e87f8f26dfc4",
   "metadata": {},
   "outputs": [
    {
     "data": {
      "text/html": [
       "<div>\n",
       "<style scoped>\n",
       "    .dataframe tbody tr th:only-of-type {\n",
       "        vertical-align: middle;\n",
       "    }\n",
       "\n",
       "    .dataframe tbody tr th {\n",
       "        vertical-align: top;\n",
       "    }\n",
       "\n",
       "    .dataframe thead th {\n",
       "        text-align: right;\n",
       "    }\n",
       "</style>\n",
       "<table border=\"1\" class=\"dataframe\">\n",
       "  <thead>\n",
       "    <tr style=\"text-align: right;\">\n",
       "      <th></th>\n",
       "      <th>is fraud?</th>\n",
       "      <th>merchant name_0</th>\n",
       "      <th>merchant name_1</th>\n",
       "      <th>merchant name_2</th>\n",
       "      <th>merchant name_3</th>\n",
       "      <th>merchant name_4</th>\n",
       "      <th>merchant name_5</th>\n",
       "      <th>merchant name_6</th>\n",
       "      <th>merchant name_7</th>\n",
       "      <th>merchant name_8</th>\n",
       "      <th>...</th>\n",
       "      <th>errors?_Bad Expiration,Technical Glitch,</th>\n",
       "      <th>errors?_Bad PIN,</th>\n",
       "      <th>errors?_Bad PIN,Insufficient Balance,</th>\n",
       "      <th>errors?_Bad PIN,Technical Glitch,</th>\n",
       "      <th>errors?_Bad Zipcode,</th>\n",
       "      <th>errors?_Insufficient Balance,</th>\n",
       "      <th>errors?_Insufficient Balance,Technical Glitch,</th>\n",
       "      <th>errors?_Technical Glitch,</th>\n",
       "      <th>year_month_day_time</th>\n",
       "      <th>amount</th>\n",
       "    </tr>\n",
       "  </thead>\n",
       "  <tbody>\n",
       "    <tr>\n",
       "      <th>0</th>\n",
       "      <td>1</td>\n",
       "      <td>0.0</td>\n",
       "      <td>0.0</td>\n",
       "      <td>0.0</td>\n",
       "      <td>0.0</td>\n",
       "      <td>0.0</td>\n",
       "      <td>0.0</td>\n",
       "      <td>0.0</td>\n",
       "      <td>0.0</td>\n",
       "      <td>0.0</td>\n",
       "      <td>...</td>\n",
       "      <td>0</td>\n",
       "      <td>0</td>\n",
       "      <td>0</td>\n",
       "      <td>0</td>\n",
       "      <td>0</td>\n",
       "      <td>0</td>\n",
       "      <td>0</td>\n",
       "      <td>0</td>\n",
       "      <td>0.424372</td>\n",
       "      <td>0.41138</td>\n",
       "    </tr>\n",
       "  </tbody>\n",
       "</table>\n",
       "<p>1 rows × 104 columns</p>\n",
       "</div>"
      ],
      "text/plain": [
       "   is fraud?  merchant name_0  merchant name_1  merchant name_2  \\\n",
       "0          1              0.0              0.0              0.0   \n",
       "\n",
       "   merchant name_3  merchant name_4  merchant name_5  merchant name_6  \\\n",
       "0              0.0              0.0              0.0              0.0   \n",
       "\n",
       "   merchant name_7  merchant name_8  ...  \\\n",
       "0              0.0              0.0  ...   \n",
       "\n",
       "   errors?_Bad Expiration,Technical Glitch,  errors?_Bad PIN,  \\\n",
       "0                                         0                 0   \n",
       "\n",
       "   errors?_Bad PIN,Insufficient Balance,  errors?_Bad PIN,Technical Glitch,  \\\n",
       "0                                      0                                  0   \n",
       "\n",
       "   errors?_Bad Zipcode,  errors?_Insufficient Balance,  \\\n",
       "0                     0                              0   \n",
       "\n",
       "   errors?_Insufficient Balance,Technical Glitch,  errors?_Technical Glitch,  \\\n",
       "0                                               0                          0   \n",
       "\n",
       "   year_month_day_time   amount  \n",
       "0             0.424372  0.41138  \n",
       "\n",
       "[1 rows x 104 columns]"
      ]
     },
     "execution_count": 47,
     "metadata": {},
     "output_type": "execute_result"
    }
   ],
   "source": [
    "test_input = {\n",
    "    \"index\": 4,\n",
    "    \"user\": 2,\n",
    "    \"card\": 1,\n",
    "    \"year\": 2006,\n",
    "    \"month\": 5,\n",
    "    \"day\": 25,\n",
    "    \"time\": \"16:17\",\n",
    "    \"amount\": \"$37.77\",\n",
    "    \"use chip\": \"Swipe Transaction\",\n",
    "    \"merchant name\": 3987158270252316808,\n",
    "    \"merchant city\": \"Algiers\",\n",
    "    \"merchant state\": \"Algeria\",\n",
    "    \"zip\": 0,\n",
    "    \"mcc\": 5921,\n",
    "    \"errors?\": \"\",\n",
    "    \"is fraud?\": \"Yes\",\n",
    "}\n",
    "\n",
    "dataset_transformer = FraudDatasetTransformer()\n",
    "\n",
    "\n",
    "test_data = pd.DataFrame([test_input])\n",
    "test_data\n",
    "\n",
    "vdf = dataset_transformer.transform(test_data, t_mapper)\n",
    "vdf.head()"
   ]
  },
  {
   "cell_type": "code",
   "execution_count": 58,
   "id": "874e57d5-9703-4264-9628-3ad60c2b4ae3",
   "metadata": {},
   "outputs": [
    {
     "name": "stdout",
     "output_type": "stream",
     "text": [
      "103\n",
      "reshape accordingly\n"
     ]
    }
   ],
   "source": [
    "import numpy as np\n",
    "import json\n",
    "import requests\n",
    "from tensorflow import keras\n",
    "\n",
    "# Data preparation\n",
    "x = vdf.drop(vdf.columns.values[0], axis=1).to_numpy().astype(np.float32)\n",
    "y = np.array([vdf[vdf.columns.values[0]].iloc[0]])\n",
    "\n",
    "# Adjust the shape of x to match model expectations\n",
    "# We need to expand or repeat our single data point to match the sequence length and feature count\n",
    "# Assuming your single row is a flat array of features, reshape and repeat it\n",
    "sequence_length = 4  # Model's expected sequence length\n",
    "num_features = 103  # Model's expected number of features per sequence element\n",
    "\n",
    "# Check if the original features match the required total features\n",
    "original_features = x.shape[1]\n",
    "print(original_features)\n",
    "if original_features < num_features:\n",
    "    print(\"pad maybe?\")\n",
    "    # If fewer, we may need to pad or adjust the data; this is situational and may not be exactly correct without more context\n",
    "    # For now, let's assume padding with zeros is acceptable\n",
    "    x_padded = np.pad(\n",
    "        x,\n",
    "        ((0, 0), (0, num_features - original_features)),\n",
    "        mode=\"constant\",\n",
    "        constant_values=0,\n",
    "    )\n",
    "else:\n",
    "    print(\"reshape accordingly\")\n",
    "    # If it matches or exceeds, truncate or reshape accordingly (though unusual for a single data point)\n",
    "    x_padded = x[:, :num_features]\n",
    "\n",
    "# Reshape to [1, sequence_length, num_features], replicating the single data point across the new sequence length\n",
    "x_reshaped = np.tile(x_padded, (sequence_length, 1)).reshape(\n",
    "    1, sequence_length, num_features\n",
    ")\n",
    "\n",
    "# Preparing the payload\n",
    "payload = {\n",
    "    \"inputs\": [\n",
    "        {\n",
    "            \"name\": \"input_1\",\n",
    "            \"shape\": [1, sequence_length, num_features],\n",
    "            \"datatype\": \"FP32\",\n",
    "            \"data\": x_reshaped.tolist(),\n",
    "        }\n",
    "    ]\n",
    "}\n",
    "\n",
    "\n",
    "# # Sending the request\n",
    "# res = requests.post(PREDICT_ENDPOINT, headers=HEADERS, data=json.dumps(payload))\n",
    "# response = json.loads(res.text)\n",
    "\n",
    "# # Handle response\n",
    "# if \"error\" in response:\n",
    "#     print(f\"Error: {response['error']}\")\n",
    "# else:\n",
    "#     print(response[\"outputs\"])\n",
    "#     pred = response[\"outputs\"][0][\"data\"][0]\n",
    "#     print(f\"Actual ({y[0]}) vs. Prediction ({round(pred, 3)} => {int(round(pred, 0))})\")"
   ]
  },
  {
   "cell_type": "code",
   "execution_count": 59,
   "id": "00135a53-6d42-421e-baa0-7635115d220e",
   "metadata": {},
   "outputs": [
    {
     "name": "stdout",
     "output_type": "stream",
     "text": [
      "input_1\n",
      "4\n",
      "103\n"
     ]
    }
   ],
   "source": [
    "input_name = session.get_inputs()[0].name\n",
    "sequence_length = session.get_inputs()[0].shape[1]  # Model's expected sequence length\n",
    "num_features = session.get_inputs()[0].shape[2]\n",
    "print(input_name)\n",
    "print(sequence_length)\n",
    "print(num_features)"
   ]
  },
  {
   "cell_type": "code",
   "execution_count": 60,
   "id": "650d5bb1-513f-4ad3-aa34-67d3e06aaecd",
   "metadata": {},
   "outputs": [],
   "source": [
    "outputs = session.run(None, {input_name: x_reshaped})"
   ]
  },
  {
   "cell_type": "code",
   "execution_count": 61,
   "id": "7d532827-8dd4-42ea-b29a-efbf922cde95",
   "metadata": {},
   "outputs": [
    {
     "data": {
      "text/plain": [
       "[array([[0.99695444]], dtype=float32)]"
      ]
     },
     "execution_count": 61,
     "metadata": {},
     "output_type": "execute_result"
    }
   ],
   "source": [
    "outputs"
   ]
  },
  {
   "cell_type": "code",
   "execution_count": null,
   "id": "8f3fa366-1b79-4cbd-86b6-762a6b4135e4",
   "metadata": {},
   "outputs": [],
   "source": []
  }
 ],
 "metadata": {
  "kernelspec": {
   "display_name": "Python 3 (ipykernel)",
   "language": "python",
   "name": "python3"
  },
  "language_info": {
   "codemirror_mode": {
    "name": "ipython",
    "version": 3
   },
   "file_extension": ".py",
   "mimetype": "text/x-python",
   "name": "python",
   "nbconvert_exporter": "python",
   "pygments_lexer": "ipython3",
   "version": "3.9.16"
  }
 },
 "nbformat": 4,
 "nbformat_minor": 5
}
