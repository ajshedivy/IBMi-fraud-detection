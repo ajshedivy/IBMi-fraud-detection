{
 "cells": [
  {
   "cell_type": "code",
   "execution_count": 1,
   "id": "e009a04d-bd4c-4f7f-9776-c24083cc7568",
   "metadata": {},
   "outputs": [],
   "source": [
    "import json\n",
    "import kfp\n",
    "from kfp.components import InputPath, OutputPath\n",
    "import kfp.dsl as dsl\n",
    "from kfp.dsl import PipelineConf, data_passing_methods\n",
    "from kubernetes.client.models import V1Volume, V1PersistentVolumeClaimVolumeSource\n",
    "import os\n",
    "from pydoc import importfile\n",
    "import requests\n",
    "from tensorflow import keras\n",
    "from typing import List\n",
    "\n",
    "\n",
    "%load_ext lab_black"
   ]
  },
  {
   "cell_type": "code",
   "execution_count": 2,
   "id": "96e1c06b-d49e-437d-b146-cbbc62e6bf27",
   "metadata": {},
   "outputs": [
    {
     "data": {
      "text/plain": [
       "'user-example-com'"
      ]
     },
     "execution_count": 2,
     "metadata": {},
     "output_type": "execute_result"
    }
   ],
   "source": [
    "KFP_CLIENT = kfp.Client()\n",
    "\n",
    "with open(\"/var/run/secrets/kubernetes.io/serviceaccount/namespace\") as f:\n",
    "    NAMESPACE = f.read()\n",
    "NAMESPACE"
   ]
  },
  {
   "cell_type": "code",
   "execution_count": 3,
   "id": "3b471df5-ec86-4cc3-a1b7-97dd6b5b56ce",
   "metadata": {
    "tags": []
   },
   "outputs": [],
   "source": [
    "component = os.path.join(\"trino\", \"component.yaml\")\n",
    "load_dataframe_via_trino_comp = kfp.components.load_component_from_file(component)"
   ]
  },
  {
   "cell_type": "code",
   "execution_count": 5,
   "id": "9d052658-e309-45c4-a277-396af0a650f6",
   "metadata": {},
   "outputs": [],
   "source": [
    "@dsl.pipeline(\n",
    "    name=\"Component Test - Load Dataframe via Jtopen Trino\",\n",
    "    description=\"A simple component test\",\n",
    ")\n",
    "def train_pipeline():\n",
    "    load_dataframe_via_trino_comp(\n",
    "        query=\"SELECT * FROM jtopen.demo.fraud limit 3\",\n",
    "        columns=None,\n",
    "        columns_query=\"show columns from jtopen.demo.fraud\",\n",
    "    )"
   ]
  },
  {
   "cell_type": "code",
   "execution_count": 6,
   "id": "c986b22c-d885-4d4d-b631-703fdb12bb7c",
   "metadata": {
    "tags": []
   },
   "outputs": [
    {
     "data": {
      "text/html": [
       "<a href=\"/pipeline/#/experiments/details/4c8bd8f3-bab8-425e-a2ef-f97db30b49e2\" target=\"_blank\" >Experiment details</a>."
      ],
      "text/plain": [
       "<IPython.core.display.HTML object>"
      ]
     },
     "metadata": {},
     "output_type": "display_data"
    },
    {
     "data": {
      "text/html": [
       "<a href=\"/pipeline/#/runs/details/0f97d5ab-0148-4a17-bdfb-d9fc0a6134da\" target=\"_blank\" >Run details</a>."
      ],
      "text/plain": [
       "<IPython.core.display.HTML object>"
      ]
     },
     "metadata": {},
     "output_type": "display_data"
    },
    {
     "data": {
      "text/plain": [
       "RunPipelineResult(run_id=0f97d5ab-0148-4a17-bdfb-d9fc0a6134da)"
      ]
     },
     "execution_count": 6,
     "metadata": {},
     "output_type": "execute_result"
    }
   ],
   "source": [
    "KFP_CLIENT.create_run_from_pipeline_func(\n",
    "    train_pipeline, arguments={}, namespace=NAMESPACE\n",
    ")"
   ]
  },
  {
   "cell_type": "markdown",
   "id": "4d5e710c-b343-4b9a-91c1-7820bf14d28c",
   "metadata": {},
   "source": [
    "## Test Simple Fraud Pipeline"
   ]
  },
  {
   "cell_type": "code",
   "execution_count": 4,
   "id": "692f65c0-e14a-480f-8499-d736c7eac4ba",
   "metadata": {},
   "outputs": [],
   "source": [
    "import os\n",
    "\n",
    "ARGUMENTS = {\n",
    "    \"blackboard\": \"artefacts\",\n",
    "    \"model_name\": \"fraud-detection\",\n",
    "    \"cluster_configuration_secret\": os.getenv(\n",
    "        \"CLUSTER_CONFIGURATION_SECRET\", default=\"\"\n",
    "    ),\n",
    "    \"training_gpus\": os.getenv(\"TRAINING_GPUS\", default=\"1\"),\n",
    "    \"training_node_selector\": os.getenv(\"TRAINING_NODE_SELECTOR\", default=\"\"),\n",
    "}\n",
    "\n",
    "with open(\"/var/run/secrets/kubernetes.io/serviceaccount/namespace\") as f:\n",
    "    NAMESPACE = f.read()"
   ]
  },
  {
   "cell_type": "code",
   "execution_count": 7,
   "id": "cbc6cf63-a760-44e5-9d65-b8f4a76ac30d",
   "metadata": {},
   "outputs": [
    {
     "name": "stdout",
     "output_type": "stream",
     "text": [
      "{'claim_name': '{{workflow.name}}-artefacts', 'read_only': None}\n"
     ]
    }
   ],
   "source": [
    "def disable_cache_transformer(op):\n",
    "    if isinstance(op, dsl.ContainerOp):\n",
    "        op.execution_options.caching_strategy.max_cache_staleness = \"P0D\"\n",
    "    else:\n",
    "        op.add_pod_annotation(\n",
    "            name=\"pipelines.kubeflow.org/max_cache_staleness\", value=\"P0D\"\n",
    "        )\n",
    "    return op\n",
    "\n",
    "\n",
    "vol_claim = V1PersistentVolumeClaimVolumeSource(\n",
    "    \"{{workflow.name}}-%s\" % ARGUMENTS[\"blackboard\"]\n",
    ")\n",
    "print(vol_claim)\n",
    "pipeline_conf = PipelineConf()\n",
    "pipeline_conf.add_op_transformer(disable_cache_transformer)\n",
    "# pipeline_conf.data_passing_method = data_passing_methods.KubernetesVolume(\n",
    "#     volume=V1Volume(\n",
    "#         name=ARGUMENTS[\"blackboard\"],\n",
    "#         persistent_volume_claim=V1PersistentVolumeClaimVolumeSource(\n",
    "#             \"{{workflow.name}}-%s\" % ARGUMENTS[\"blackboard\"]\n",
    "#         ),\n",
    "#     ),\n",
    "#     path_prefix=f'{ARGUMENTS[\"blackboard\"]}/',\n",
    "# )"
   ]
  },
  {
   "cell_type": "code",
   "execution_count": 8,
   "id": "c0837bf6-e74d-4fb7-83c3-34efc1d2c8ef",
   "metadata": {},
   "outputs": [
    {
     "data": {
      "text/html": [
       "<a href=\"/pipeline/#/experiments/details/4c8bd8f3-bab8-425e-a2ef-f97db30b49e2\" target=\"_blank\" >Experiment details</a>."
      ],
      "text/plain": [
       "<IPython.core.display.HTML object>"
      ]
     },
     "metadata": {},
     "output_type": "display_data"
    },
    {
     "data": {
      "text/html": [
       "<a href=\"/pipeline/#/runs/details/4e398caa-e149-45b0-95eb-592eb77e252e\" target=\"_blank\" >Run details</a>."
      ],
      "text/plain": [
       "<IPython.core.display.HTML object>"
      ]
     },
     "metadata": {},
     "output_type": "display_data"
    },
    {
     "data": {
      "text/plain": [
       "RunPipelineResult(run_id=4e398caa-e149-45b0-95eb-592eb77e252e)"
      ]
     },
     "execution_count": 8,
     "metadata": {},
     "output_type": "execute_result"
    }
   ],
   "source": [
    "@dsl.pipeline(\n",
    "    name=\"Debug Pipeline\",\n",
    "    description=\"A debugging pipeline\",\n",
    ")\n",
    "def debug_pipeline(\n",
    "    blackboard: str,\n",
    "    model_name: str,\n",
    "    cluster_configuration_secret: str,\n",
    "    training_gpus: int,\n",
    "    training_node_selector: str,\n",
    "):\n",
    "    load_dataframe_via_trino_comp(\n",
    "        query=\"SELECT * FROM  jtopen.demo.fraud LIMIT 3\",\n",
    "        columns=None,\n",
    "        columns_query=\"SHOW COLUMNS FROM jtopen.demo.fraud\",\n",
    "    )\n",
    "\n",
    "\n",
    "kfp.Client().create_run_from_pipeline_func(\n",
    "    debug_pipeline,\n",
    "    arguments=ARGUMENTS,\n",
    "    namespace=NAMESPACE,\n",
    "    pipeline_conf=pipeline_conf,\n",
    ")"
   ]
  },
  {
   "cell_type": "code",
   "execution_count": null,
   "id": "b8f5aa89-525a-426a-aadc-3cb90b433fb5",
   "metadata": {},
   "outputs": [],
   "source": []
  }
 ],
 "metadata": {
  "kernelspec": {
   "display_name": "Python 3 (ipykernel)",
   "language": "python",
   "name": "python3"
  },
  "language_info": {
   "codemirror_mode": {
    "name": "ipython",
    "version": 3
   },
   "file_extension": ".py",
   "mimetype": "text/x-python",
   "name": "python",
   "nbconvert_exporter": "python",
   "pygments_lexer": "ipython3",
   "version": "3.9.16"
  }
 },
 "nbformat": 4,
 "nbformat_minor": 5
}
